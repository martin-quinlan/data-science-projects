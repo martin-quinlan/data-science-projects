{
  "nbformat": 4,
  "nbformat_minor": 0,
  "metadata": {
    "colab": {
      "provenance": [],
      "authorship_tag": "ABX9TyM76KO+BFF99YlWVghHInwV",
      "include_colab_link": true
    },
    "kernelspec": {
      "name": "python3",
      "display_name": "Python 3"
    },
    "language_info": {
      "name": "python"
    }
  },
  "cells": [
    {
      "cell_type": "markdown",
      "metadata": {
        "id": "view-in-github",
        "colab_type": "text"
      },
      "source": [
        "<a href=\"https://colab.research.google.com/github/martin-quinlan/data-science-projects/blob/main/Blackjack_Test.ipynb\" target=\"_parent\"><img src=\"https://colab.research.google.com/assets/colab-badge.svg\" alt=\"Open In Colab\"/></a>"
      ]
    },
    {
      "cell_type": "markdown",
      "source": [
        "# **Blackjack Game Documentation**\n",
        "This is a text-based Blackjack game where a single player competes against an automated dealer. The objective is to get as close to 21 as possible without exceeding it. Players can place bets, hit (draw more cards), or stand (end their turn), while the dealer plays by standard Blackjack rules.\n"
      ],
      "metadata": {
        "id": "cA49dYY9kP5j"
      }
    },
    {
      "cell_type": "markdown",
      "source": [
        "# **Game Rules**\n",
        "1. The player starts with a set amount of chips (money).\n",
        "2. The player places a bet before each round.\n",
        "3. Both the player and dealer are dealt two cards; the player's second card is visible.\n",
        "4. The player can choose to hit or stand.\n",
        "5. The dealer must hit until reaching a total of 17 or higher.\n",
        "6. Wins, losses, and busts are calculated, and the player's chip total is updated accordingly."
      ],
      "metadata": {
        "id": "cnozRkqEkXby"
      }
    },
    {
      "cell_type": "markdown",
      "source": [
        "# **Game Logic**\n",
        "\n",
        "\n",
        "\n",
        "1.   **Welcome Message:** Introduces the game and its rules.\n",
        "2.   **Player Chips:** Initializes the player's chips.\n",
        "3.   **Game Loop:** Continues until the player decides to quit.\n",
        "  *   **Deck Creation:** A new deck is created and shuffled.\n",
        "  *   **Deal Initial Cards:** Two cards are dealt to both the player and the dealer.\n",
        "  *   **Taking Bet:** Prompts the player for their betting amount.\n",
        "  *   **Displaying Hands:** Shows one dealer card and all player cards.\n",
        "  *   **Player's Turn:** Allows the player to hit or stand, updating the hand value accordingly.\n",
        "  *   **Dealer's Turn:** If the player does not bust, the dealer plays automatically, hitting until reaching 17 or higher.\n",
        "  *   **Win/Loss Determination:** After both turns, the winner is determined based on hand values.\n",
        "  *   **Chip Management:** Updates the player's chip total based on the outcome of the game.\n",
        "  *   **Replay Option:** Asks the player if they would like to play again, exiting the game if not.\n",
        "\n",
        "\n"
      ],
      "metadata": {
        "id": "blEzGc6tiAsz"
      }
    },
    {
      "cell_type": "markdown",
      "source": [
        "# **Class Definitions**\n",
        "1. **Card Class:** Represents a single playing card.\n",
        "Attributes:\n",
        "`suit`: The suit of the card (Hearts, Diamonds, Clubs, Spades).\n",
        "`rank`: The rank of the card (Two, Three, ..., Jack, Queen, King, Ace).\n",
        "Methods:\n",
        "`__init__(suit, rank)`: Initializes a Card with the specified suit and rank.\n",
        "`__str__()`: Returns a string representation of the card.\n",
        "\n",
        "2. **Deck Class:** Represents a standard deck of 52 playing cards.\n",
        "Attributes:\n",
        "`cards`: A list containing all cards in the deck.\n",
        "Methods:\n",
        "`__init__()`: Initializes the deck with all 52 cards.\n",
        "`shuffle()`: Shuffles the deck randomly.\n",
        "`deal()`: Deals (removes and returns) the top card from the deck.\n",
        "\n",
        "3. **Hand Class:** Represents a player's or dealer's hand of cards.\n",
        "Attributes:\n",
        "`cards`: A list of Card objects.\n",
        "`value`: The total value of the hand.\n",
        "`aces`: The number of aces in the hand for proper value adjustment.\n",
        "Methods:\n",
        "`__init__()`: Initializes an empty hand.\n",
        "`add_card(card)`: Adds a card to the hand and updates the total value.\n",
        "`adjust_for_ace()`: Adjusts the value of the hand if it exceeds 21 and there are aces present.\n",
        "\n",
        "4. **Chips Class:** Represents the player's chips or money used for betting.\n",
        "Attributes:\n",
        "`total`: The total amount of chips the player has.\n",
        "`bet`: The current bet placed by the player.\n",
        "Methods:\n",
        "`__init__(total=100)`: Initializes the player's chips, defaulting to 100.\n",
        "`win_bet()`: Increases the total chips by the current bet amount.\n",
        "`lose_bet()`: Decreases the total chips by the current bet amount.\n",
        "\n"
      ],
      "metadata": {
        "id": "JmKFFTn_k_ix"
      }
    },
    {
      "cell_type": "markdown",
      "source": [
        "# **Function Definitions**\n",
        "1. `take_bet(chips)`\n",
        "Prompts the player to place a bet.\n",
        "\n",
        "* **Parameters:**\n",
        "  * `chips`: An instance of the Chips class.\n",
        "* **Behaviour:**\n",
        "  * Ensures the bet is a valid integer and does not exceed the total amount of chips. If invalid, prompts the user again.\n",
        "\n",
        "2. `hit(deck, hand)`\n",
        "Adds a card to the player's or dealer's hand.\n",
        "\n",
        "**Parameters:**\n",
        "* `deck`: An instance of the Deck class.\n",
        "* `hand`: An instance of the Hand class (either player or dealer).\n",
        "\n",
        "**Behaviour:**\n",
        "* Deals a card from the deck to the hand and adjusts for any aces.\n",
        "\n",
        "3. `hit_or_stand(deck, hand)`\n",
        "* Prompts the player to hit or stand.\n",
        "\n",
        "**Parameters:**\n",
        "* `deck`: An instance of the Deck class.\n",
        "* `hand`: An instance of the Hand class (the player's hand).\n",
        "\n",
        "**Behaviour:**\n",
        "* Allows the player to hit (draw another card) or stand (end their turn).\n",
        "* The game continues until the player stands or busts.\n",
        "\n",
        "4. `show_some(player, dealer)`\n",
        "* Displays the cards of the player and dealer, but keeps one dealer card hidden.\n",
        "\n",
        "**Parameters:**\n",
        "\n",
        "* `player`: An instance of the Hand class (the player's hand).\n",
        "* `dealer`: An instance of the Hand class (the dealer's hand).\n",
        "\n",
        "**Behaviour**\n",
        "* Prints the dealer's visible card and the player's hand.\n",
        "\n",
        "5. `show_all(player, dealer)`\n",
        "* Displays all cards for both the player and dealer.\n",
        "\n",
        "**Parameters:**\n",
        "\n",
        "* `player`: An instance of the Hand class (the player's hand).\n",
        "* `dealer`: An instance of the Hand class (the dealer's hand).\n",
        "\n",
        "**Behaviour:**\n",
        "* Prints the complete hands and values for both player and dealer.\n",
        "\n",
        "6. `player_busts(player_chips)`\n",
        "* Handles the scenario where the player busts.\n",
        "\n",
        "**Parameters:**\n",
        "* `player_chips`: An instance of the Chips class.\n",
        "**Behaviour:**\n",
        "* Prints a message indicating the player busts and deducts the bet from their total chips.\n",
        "\n",
        "7. `player_wins(player_chips)`\n",
        "* Handles the scenario where the player wins.\n",
        "\n",
        "**Parameters:**\n",
        "\n",
        "* `player_chips`: An instance of the Chips class.\n",
        "\n",
        "**Behaviour:**\n",
        "* Prints a message indicating the player wins and adds the bet to their total chips.\n",
        "8. `dealer_busts(player_chips)`\n",
        "Handles the scenario where the dealer busts.\n",
        "\n",
        "**Parameters:**\n",
        "\n",
        "`player_chips`: An instance of the Chips class.\n",
        "\n",
        "**Behaviour:**\n",
        "* Prints a message indicating the dealer busts and adds the bet to the player's total chips.\n",
        "\n",
        "9. `dealer_wins(player_chips)`\n",
        "* Handles the scenario where the dealer wins.\n",
        "\n",
        "**Parameters:**\n",
        "* `player_chips`: An instance of the Chips class.\n",
        "**Behaviour:**\n",
        "* Prints a message indicating the dealer wins and deducts the bet from the player's total chips.\n",
        "\n",
        "10. `push()`\n",
        "* Handles the scenario where the player and dealer tie.\n",
        "\n",
        "**Behaviour:**\n",
        "* Prints a message indicating a tie."
      ],
      "metadata": {
        "id": "JiAIFa3bk_8Q"
      }
    },
    {
      "cell_type": "markdown",
      "source": [
        "# **Card and Deck Classes**\n",
        "`Card` Class: Represents a single card, with `suit` and `rank` attributes. The `__str__` method returns a string representation of the card.\n",
        "`Deck` Class: Represents a collection of 52 `Card` instances. It includes methods to initialize the deck, shuffle it, and deal cards."
      ],
      "metadata": {
        "id": "IJlACSnHfk9W"
      }
    },
    {
      "cell_type": "code",
      "execution_count": 8,
      "metadata": {
        "id": "aAnQ5FTgfQvE"
      },
      "outputs": [],
      "source": [
        "# Defining `Card` and `Deck` classes.\n",
        "\n",
        "import random\n",
        "\n",
        "SUITS = ('Hearts', 'Diamonds', 'Clubs', 'Spades')\n",
        "RANKS = ('Two', 'Three', 'Four', 'Five', 'Six', 'Seven', 'Eight', 'Nine', 'Ten', 'Jack', 'Queen', 'King', 'Ace')\n",
        "VALUES = {'Two': 2, 'Three': 3, 'Four': 4, 'Five': 5, 'Six': 6, 'Seven': 7, 'Eight': 8, 'Nine': 9, 'Ten': 10,\n",
        "          'Jack': 10, 'Queen': 10, 'King': 10, 'Ace': 11}\n",
        "\n",
        "class Card:\n",
        "    def __init__(self, suit, rank):\n",
        "        self.suit = suit\n",
        "        self.rank = rank\n",
        "\n",
        "    def __str__(self):\n",
        "        return f\"{self.rank} of {self.suit}\"\n",
        "\n",
        "class Deck:\n",
        "    def __init__(self):\n",
        "        self.cards = [Card(suit, rank) for suit in SUITS for rank in RANKS]\n",
        "\n",
        "    def shuffle(self):\n",
        "        random.shuffle(self.cards)\n",
        "\n",
        "    def deal(self):\n",
        "        return self.cards.pop()\n"
      ]
    },
    {
      "cell_type": "markdown",
      "source": [
        "# **Hand and Chips Classes**\n",
        "\n",
        "# `Hand Class:`\n",
        "* Represents the set of cards a player or dealer has.\n",
        "* Manages the total value of the cards and adjusts for aces which can be counted as 1 or 11.\n",
        "# `Chips Class`:\n",
        "* Manages the player's betting chips.\n",
        "* Tracks the total funds and the amount bet per game.\n",
        "* Methods are included to process wins and losses."
      ],
      "metadata": {
        "id": "k8UX925Kf7A2"
      }
    },
    {
      "cell_type": "code",
      "source": [
        "# Defining the `Hand` and `Chips` classes.\n",
        "\n",
        "class Hand:\n",
        "    def __init__(self):\n",
        "        self.cards = []\n",
        "        self.value = 0\n",
        "        self.aces = 0\n",
        "\n",
        "    def add_card(self, card):\n",
        "        self.cards.append(card)\n",
        "        self.value += VALUES[card.rank]\n",
        "        if card.rank == 'Ace':\n",
        "            self.aces += 1\n",
        "\n",
        "    def adjust_for_ace(self):\n",
        "        while self.value > 21 and self.aces:\n",
        "            self.value -= 10\n",
        "            self.aces -= 1\n",
        "\n",
        "class Chips:\n",
        "    def __init__(self, total=100):\n",
        "        self.total = total\n",
        "        self.bet = 0\n",
        "\n",
        "    def win_bet(self):\n",
        "        self.total += self.bet\n",
        "\n",
        "    def lose_bet(self):\n",
        "        self.total -= self.bet\n"
      ],
      "metadata": {
        "id": "p1A9iTzBf7Vg"
      },
      "execution_count": 9,
      "outputs": []
    },
    {
      "cell_type": "markdown",
      "source": [
        "# **Helper Functions (take_bet, hit, hit_or_stand)**\n",
        "\n",
        "`take_bet(chips)`: Prompts the player for a betting amount and checks it against the chips available.\n",
        "`hit(deck, hand)`: Deals a card from the deck and adds it to the provided hand.\n",
        "`hit_or_stand(deck, hand)`: Asks the player whether they want to hit or stand, continuing until a valid input is given."
      ],
      "metadata": {
        "id": "E36IywEqgEt0"
      }
    },
    {
      "cell_type": "code",
      "source": [
        "# Defining helper functions that facilitate core gameplay operations.\n",
        "\n",
        "def take_bet(chips):\n",
        "    while True:\n",
        "        try:\n",
        "            chips.bet = int(input(\"How many chips would you like to bet? \"))\n",
        "        except ValueError:\n",
        "            print(\"Sorry, a bet must be an integer!\")\n",
        "        else:\n",
        "            if chips.bet > chips.total:\n",
        "                print(f\"Sorry, your bet can't exceed {chips.total}.\")\n",
        "            else:\n",
        "                break\n",
        "\n",
        "def hit(deck, hand):\n",
        "    card = deck.deal()\n",
        "    hand.add_card(card)\n",
        "    hand.adjust_for_ace()\n",
        "\n",
        "def hit_or_stand(deck, hand):\n",
        "    global playing  # To control an ongoing game\n",
        "    while True:\n",
        "        x = input(\"Would you like to Hit or Stand? Enter 'h' or 's': \").lower()\n",
        "        if x == 'h':\n",
        "            hit(deck, hand)\n",
        "        elif x == 's':\n",
        "            print(\"Player stands. Dealer is playing.\")\n",
        "            playing = False\n",
        "        else:\n",
        "            print(\"Sorry, please try again.\")\n",
        "            continue\n",
        "        break\n"
      ],
      "metadata": {
        "id": "r6z41053gE7N"
      },
      "execution_count": 10,
      "outputs": []
    },
    {
      "cell_type": "markdown",
      "source": [
        "# **Display Functions (show_some, show_all)**\n",
        "\n",
        "`show_some(player, dealer)`: Displays the dealer's hand with one card hidden and the player's full hand.\n",
        "`show_all(player, dealer)`: Displays all cards for both the player and dealer, including hand values.\n"
      ],
      "metadata": {
        "id": "XySdNFSXglEO"
      }
    },
    {
      "cell_type": "code",
      "source": [
        "# Functions for displaying game status.\n",
        "\n",
        "def show_some(player, dealer):\n",
        "    print(\"\\nDealer's Hand:\")\n",
        "    print(\" <card hidden>\")\n",
        "    print('', dealer.cards[1])\n",
        "    print(\"\\nPlayer's Hand:\", *player.cards, sep='\\n ')\n",
        "    print(\"Player's Hand Value:\", player.value)\n",
        "\n",
        "def show_all(player, dealer):\n",
        "    print(\"\\nDealer's Hand:\", *dealer.cards, sep='\\n ')\n",
        "    print(\"Dealer's Hand Value:\", dealer.value)\n",
        "    print(\"\\nPlayer's Hand:\", *player.cards, sep='\\n ')\n",
        "    print(\"Player's Hand Value:\", player.value)\n"
      ],
      "metadata": {
        "id": "wzA8BvUAglNK"
      },
      "execution_count": 11,
      "outputs": []
    },
    {
      "cell_type": "markdown",
      "source": [
        "# **Result Handling Functions (win/loss checks)**\n",
        "\n",
        "`player_busts`, `player_wins`, `dealer_busts`, `dealer_wins`: Handle the scenario when players or the dealer bust or win. Updates chips based on outcomes.\n",
        "`push()`: Handles a tie situation between dealer and player.\n"
      ],
      "metadata": {
        "id": "tihWgsGtg9AF"
      }
    },
    {
      "cell_type": "code",
      "source": [
        "# Result Handling Functions\n",
        "\n",
        "def player_busts(player_chips):\n",
        "    print(\"Player busts!\")\n",
        "    player_chips.lose_bet()\n",
        "\n",
        "def player_wins(player_chips):\n",
        "    print(\"Player wins!\")\n",
        "    player_chips.win_bet()\n",
        "\n",
        "def dealer_busts(player_chips):\n",
        "    print(\"Dealer busts!\")\n",
        "    player_chips.win_bet()\n",
        "\n",
        "def dealer_wins(player_chips):\n",
        "    print(\"Dealer wins!\")\n",
        "    player_chips.lose_bet()\n",
        "\n",
        "def push():\n",
        "    print(\"Dealer and Player tie! It's a push.\")\n"
      ],
      "metadata": {
        "id": "qckkqG1Ng9Kh"
      },
      "execution_count": 12,
      "outputs": []
    },
    {
      "cell_type": "markdown",
      "source": [
        "# **Running the Game**\n",
        "\n",
        "Initializes player chips and sets the game rules.\n",
        "Loops through the gameplay, dealing cards, prompting for actions, and determining results until the player decides to stop playing.\n",
        "Uses all the previous cells' functions and classes to manage the game flow."
      ],
      "metadata": {
        "id": "a6n4gFBihTMx"
      }
    },
    {
      "cell_type": "code",
      "source": [
        "# The main loop to run the game.\n",
        "\n",
        "print(\"Welcome to BlackJack! Get as close to 21 as you can without going over!\\nDealer hits until they reach 17. Aces count as 1 or 11.\")\n",
        "\n",
        "# Set up the player's chips\n",
        "player_chips = Chips()\n",
        "\n",
        "while True:\n",
        "    # Create & shuffle the deck, deal two cards to each player\n",
        "    deck = Deck()\n",
        "    deck.shuffle()\n",
        "\n",
        "    player_hand = Hand()\n",
        "    player_hand.add_card(deck.deal())\n",
        "    player_hand.add_card(deck.deal())\n",
        "\n",
        "    dealer_hand = Hand()\n",
        "    dealer_hand.add_card(deck.deal())\n",
        "    dealer_hand.add_card(deck.deal())\n",
        "\n",
        "    # Prompt the Player for their bet\n",
        "    take_bet(player_chips)\n",
        "\n",
        "    # Show cards (but keep one dealer card hidden)\n",
        "    show_some(player_hand, dealer_hand)\n",
        "\n",
        "    playing = True\n",
        "    while playing:  # Recall this variable from our hit_or_stand function\n",
        "\n",
        "        # Prompt for Player to Hit or Stand\n",
        "        hit_or_stand(deck, player_hand)\n",
        "\n",
        "        # Show cards (but keep one dealer card hidden)\n",
        "        show_some(player_hand, dealer_hand)\n",
        "\n",
        "        # If player's hand exceeds 21, run player_busts() and break out of loop\n",
        "        if player_hand.value > 21:\n",
        "            player_busts(player_chips)\n",
        "            break\n",
        "\n",
        "    # If Player hasn't busted, play Dealer's hand until it reaches 17\n",
        "    if player_hand.value <= 21:\n",
        "        while dealer_hand.value < 17:\n",
        "            hit(deck, dealer_hand)\n",
        "\n",
        "        # Show all cards\n",
        "        show_all(player_hand, dealer_hand)\n",
        "\n",
        "        # Run different winning scenarios\n",
        "        if dealer_hand.value > 21:\n",
        "            dealer_busts(player_chips)\n",
        "        elif dealer_hand.value > player_hand.value:\n",
        "            dealer_wins(player_chips)\n",
        "        elif dealer_hand.value < player_hand.value:\n",
        "            player_wins(player_chips)\n",
        "        else:\n",
        "            push()\n",
        "\n",
        "    # Inform Player of their chips total\n",
        "    print(\"\\nPlayer's winnings stand at\", player_chips.total)\n",
        "\n",
        "    # Ask to play again\n",
        "    new_game = input(\"Would you like to play another hand? Enter 'y' or 'n': \")\n",
        "    if new_game.lower() != 'y':\n",
        "        print(\"Thanks for playing!\")\n",
        "        break\n"
      ],
      "metadata": {
        "colab": {
          "base_uri": "https://localhost:8080/"
        },
        "id": "aTT5P6B9hTV5",
        "outputId": "7b293ac7-a947-48dd-b214-6818959496f1"
      },
      "execution_count": null,
      "outputs": [
        {
          "output_type": "stream",
          "name": "stdout",
          "text": [
            "Welcome to BlackJack! Get as close to 21 as you can without going over!\n",
            "Dealer hits until they reach 17. Aces count as 1 or 11.\n"
          ]
        }
      ]
    },
    {
      "cell_type": "markdown",
      "source": [
        "## *Please ensure you run each cell in sequence, as there are dependencies between them. Each cell builds upon the previous one to ensure that the classes and functions needed for the game logic are correctly defined and available.*"
      ],
      "metadata": {
        "id": "o-zv5q7Zhr73"
      }
    }
  ]
}